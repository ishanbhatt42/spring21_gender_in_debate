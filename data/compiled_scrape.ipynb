{
 "cells": [
  {
   "cell_type": "markdown",
   "metadata": {},
   "source": [
    "# Tournaments Omitted\n",
    "\n",
    "Don't worry, will write up independent code for these later.\n",
    "\n",
    "#### Havard Westlake 2021 \n",
    "\n",
    "Wins ommitted.\n",
    "\n",
    "#### Mid America Cup 2021 \n",
    "\n",
    "Weird entry formatting. Can combine seeds with speaker.\n",
    "\n",
    "#### Berkeley 2020 \n",
    "\n",
    "Need to manually enter this data. Got it from the DoF."
   ]
  },
  {
   "cell_type": "markdown",
   "metadata": {},
   "source": [
    "# Tournament Compilation"
   ]
  },
  {
   "cell_type": "code",
   "execution_count": 37,
   "metadata": {},
   "outputs": [],
   "source": [
    "tournament_list = []\n",
    "from scraper import tournament_scrape"
   ]
  },
  {
   "cell_type": "markdown",
   "metadata": {},
   "source": [
    "### Tournament of Champions"
   ]
  },
  {
   "cell_type": "code",
   "execution_count": 24,
   "metadata": {},
   "outputs": [],
   "source": [
    "# Tournament of Champions 2021\n",
    "\n",
    "toc21 = tournament_scrape(\"TOC\", 2021, \n",
    "                         \"https://www.tabroom.com/index/tourn/results/event_results.mhtml?tourn_id=16714&result_id=183375\")\n",
    "tournament_list.append(toc21)\n",
    "\n",
    "# Tournament of Champions 2020\n",
    "\n",
    "toc20 = tournament_scrape(\"TOC\", 2020, \"https://www.tabroom.com/index/tourn/results/event_results.mhtml?tourn_id=13038&result_id=128276\")\n",
    "tournament_list.append(toc20)\n",
    "\n"
   ]
  },
  {
   "cell_type": "markdown",
   "metadata": {},
   "source": [
    "### Harvard"
   ]
  },
  {
   "cell_type": "code",
   "execution_count": 25,
   "metadata": {},
   "outputs": [],
   "source": [
    "# Harvard 2021\n",
    "\n",
    "harvard21 = tournament_scrape(\"Harvard\", 2021, \"https://www.tabroom.com/index/tourn/results/event_results.mhtml?tourn_id=16776&result_id=166102\")\n",
    "tournament_list.append(harvard21)\n",
    "\n",
    "# Harvard 2020\n",
    "\n",
    "harvard20 = tournament_scrape(\"Harvard\", 2020, \"https://www.tabroom.com/index/tourn/results/event_results.mhtml?tourn_id=13670&result_id=122694\")\n",
    "tournament_list.append(harvard20)"
   ]
  },
  {
   "cell_type": "markdown",
   "metadata": {},
   "source": [
    "### Berkeley"
   ]
  },
  {
   "cell_type": "code",
   "execution_count": 26,
   "metadata": {},
   "outputs": [],
   "source": [
    "# Cal 2021\n",
    "\n",
    "cal21 = tournament_scrape(\"Cal\", 2021, \"https://www.tabroom.com/index/tourn/results/event_results.mhtml?tourn_id=16917&result_id=166165\")\n",
    "tournament_list.append(cal21)"
   ]
  },
  {
   "cell_type": "markdown",
   "metadata": {},
   "source": [
    "### Barkley Forum"
   ]
  },
  {
   "cell_type": "code",
   "execution_count": 27,
   "metadata": {},
   "outputs": [],
   "source": [
    "# Barkley Forum 2021\n",
    "\n",
    "bf21 = tournament_scrape(\"Barkley Forum\", 2021, \"https://www.tabroom.com/index/tourn/results/event_results.mhtml?tourn_id=16030&result_id=160505\")\n",
    "tournament_list.append(bf21)\n",
    "\n",
    "# Barkley Forum 2020\n",
    "\n",
    "bf20 = tournament_scrape(\"Barkley Forum\", 2020, \"https://www.tabroom.com/index/tourn/results/event_results.mhtml?tourn_id=13465&result_id=117183\")\n",
    "tournament_list.append(bf20)"
   ]
  },
  {
   "cell_type": "markdown",
   "metadata": {},
   "source": [
    "### Harvard Westlake\n"
   ]
  },
  {
   "cell_type": "code",
   "execution_count": 28,
   "metadata": {},
   "outputs": [],
   "source": [
    "# Harvard Westlake 2020\n",
    "\n",
    "hw20 = tournament_scrape(\"Harvard Westlake\", 2020, \"https://www.tabroom.com/index/tourn/results/event_results.mhtml?tourn_id=14709&result_id=115966\", \n",
    "                         win_type = \"Win\",\n",
    "                         point_type = \"Pts -1HL\")\n",
    "tournament_list.append(hw20)"
   ]
  },
  {
   "cell_type": "markdown",
   "metadata": {},
   "source": [
    "### Glenbrooks"
   ]
  },
  {
   "cell_type": "code",
   "execution_count": 29,
   "metadata": {},
   "outputs": [],
   "source": [
    "# Glenbrooks 2021\n",
    "\n",
    "gbx21 = tournament_scrape(\"Glenbrooks\", 2021, \"https://www.tabroom.com/index/tourn/results/event_results.mhtml?tourn_id=14991&result_id=146746\")\n",
    "tournament_list.append(gbx21)\n",
    "\n",
    "# Glenbrooks 2020\n",
    "\n",
    "gbx20 = tournament_scrape(\"Glenbrooks\", 2020, \"https://www.tabroom.com/index/tourn/results/event_results.mhtml?tourn_id=12924&result_id=108727\")\n",
    "tournament_list.append(gbx20)\n"
   ]
  },
  {
   "cell_type": "markdown",
   "metadata": {},
   "source": [
    "### Apple Valley"
   ]
  },
  {
   "cell_type": "code",
   "execution_count": 30,
   "metadata": {},
   "outputs": [],
   "source": [
    "# Apple Valley 2021\n",
    "\n",
    "av21 = tournament_scrape(\"Apple Valley\", 2021, \"https://www.tabroom.com/index/tourn/results/event_results.mhtml?tourn_id=16856&result_id=141333\")\n",
    "tournament_list.append(av21)\n",
    "\n",
    "# Apple Valley 2020\n",
    "\n",
    "av20 = tournament_scrape(\"Apple Valley\", 2020, \"https://www.tabroom.com/index/tourn/results/event_results.mhtml?tourn_id=13417&result_id=104823\")\n",
    "tournament_list.append(av20)"
   ]
  },
  {
   "cell_type": "markdown",
   "metadata": {},
   "source": [
    "### Heart of Texas"
   ]
  },
  {
   "cell_type": "code",
   "execution_count": 31,
   "metadata": {},
   "outputs": [],
   "source": [
    "# Heart of Texas 2021\n",
    "\n",
    "hot21 = tournament_scrape(\"HoT\", 2021, \"https://www.tabroom.com/index/tourn/results/event_results.mhtml?tourn_id=16679&result_id=170439\")\n",
    "tournament_list.append(hot21)"
   ]
  },
  {
   "cell_type": "markdown",
   "metadata": {},
   "source": [
    "### Bronx"
   ]
  },
  {
   "cell_type": "code",
   "execution_count": 32,
   "metadata": {},
   "outputs": [],
   "source": [
    "# Bronx 2021\n",
    "\n",
    "ny21 = tournament_scrape(\"Bronx\", 2021, \"https://www.tabroom.com/index/tourn/results/event_results.mhtml?tourn_id=15710&result_id=136556\")\n",
    "tournament_list.append(ny21)"
   ]
  },
  {
   "cell_type": "markdown",
   "metadata": {},
   "source": [
    "### Valley"
   ]
  },
  {
   "cell_type": "code",
   "execution_count": null,
   "metadata": {},
   "outputs": [],
   "source": []
  },
  {
   "cell_type": "markdown",
   "metadata": {},
   "source": [
    "### Greenhill"
   ]
  },
  {
   "cell_type": "code",
   "execution_count": 35,
   "metadata": {},
   "outputs": [],
   "source": [
    "# Greenhill 2021\n",
    "\n",
    "gh21 = tournament_scrape(\"Greenhill\", 2021, \"https://www.tabroom.com/index/tourn/results/event_results.mhtml?tourn_id=16788&result_id=132928\")\n",
    "tournament_list.append(gh21)"
   ]
  },
  {
   "cell_type": "code",
   "execution_count": 38,
   "metadata": {},
   "outputs": [
    {
     "ename": "ValueError",
     "evalue": "No objects to concatenate",
     "output_type": "error",
     "traceback": [
      "\u001b[0;31m---------------------------------------------------------------------------\u001b[0m",
      "\u001b[0;31mValueError\u001b[0m                                Traceback (most recent call last)",
      "\u001b[0;32m<ipython-input-38-f8e6fe15986a>\u001b[0m in \u001b[0;36m<module>\u001b[0;34m\u001b[0m\n\u001b[1;32m      1\u001b[0m \u001b[0;32mimport\u001b[0m \u001b[0mpandas\u001b[0m \u001b[0;32mas\u001b[0m \u001b[0mpd\u001b[0m\u001b[0;34m\u001b[0m\u001b[0;34m\u001b[0m\u001b[0m\n\u001b[0;32m----> 2\u001b[0;31m \u001b[0mmain\u001b[0m \u001b[0;34m=\u001b[0m \u001b[0mpd\u001b[0m\u001b[0;34m.\u001b[0m\u001b[0mconcat\u001b[0m\u001b[0;34m(\u001b[0m\u001b[0mtournament_list\u001b[0m\u001b[0;34m,\u001b[0m \u001b[0maxis\u001b[0m \u001b[0;34m=\u001b[0m \u001b[0;36m0\u001b[0m\u001b[0;34m)\u001b[0m\u001b[0;34m\u001b[0m\u001b[0;34m\u001b[0m\u001b[0m\n\u001b[0m\u001b[1;32m      3\u001b[0m \u001b[0mprint\u001b[0m\u001b[0;34m(\u001b[0m\u001b[0mmain\u001b[0m\u001b[0;34m)\u001b[0m\u001b[0;34m\u001b[0m\u001b[0;34m\u001b[0m\u001b[0m\n",
      "\u001b[0;32m~/opt/anaconda3/lib/python3.8/site-packages/pandas/core/reshape/concat.py\u001b[0m in \u001b[0;36mconcat\u001b[0;34m(objs, axis, join, ignore_index, keys, levels, names, verify_integrity, sort, copy)\u001b[0m\n\u001b[1;32m    272\u001b[0m     \u001b[0mValueError\u001b[0m\u001b[0;34m:\u001b[0m \u001b[0mIndexes\u001b[0m \u001b[0mhave\u001b[0m \u001b[0moverlapping\u001b[0m \u001b[0mvalues\u001b[0m\u001b[0;34m:\u001b[0m \u001b[0;34m[\u001b[0m\u001b[0;34m'a'\u001b[0m\u001b[0;34m]\u001b[0m\u001b[0;34m\u001b[0m\u001b[0;34m\u001b[0m\u001b[0m\n\u001b[1;32m    273\u001b[0m     \"\"\"\n\u001b[0;32m--> 274\u001b[0;31m     op = _Concatenator(\n\u001b[0m\u001b[1;32m    275\u001b[0m         \u001b[0mobjs\u001b[0m\u001b[0;34m,\u001b[0m\u001b[0;34m\u001b[0m\u001b[0;34m\u001b[0m\u001b[0m\n\u001b[1;32m    276\u001b[0m         \u001b[0maxis\u001b[0m\u001b[0;34m=\u001b[0m\u001b[0maxis\u001b[0m\u001b[0;34m,\u001b[0m\u001b[0;34m\u001b[0m\u001b[0;34m\u001b[0m\u001b[0m\n",
      "\u001b[0;32m~/opt/anaconda3/lib/python3.8/site-packages/pandas/core/reshape/concat.py\u001b[0m in \u001b[0;36m__init__\u001b[0;34m(self, objs, axis, join, keys, levels, names, ignore_index, verify_integrity, copy, sort)\u001b[0m\n\u001b[1;32m    329\u001b[0m \u001b[0;34m\u001b[0m\u001b[0m\n\u001b[1;32m    330\u001b[0m         \u001b[0;32mif\u001b[0m \u001b[0mlen\u001b[0m\u001b[0;34m(\u001b[0m\u001b[0mobjs\u001b[0m\u001b[0;34m)\u001b[0m \u001b[0;34m==\u001b[0m \u001b[0;36m0\u001b[0m\u001b[0;34m:\u001b[0m\u001b[0;34m\u001b[0m\u001b[0;34m\u001b[0m\u001b[0m\n\u001b[0;32m--> 331\u001b[0;31m             \u001b[0;32mraise\u001b[0m \u001b[0mValueError\u001b[0m\u001b[0;34m(\u001b[0m\u001b[0;34m\"No objects to concatenate\"\u001b[0m\u001b[0;34m)\u001b[0m\u001b[0;34m\u001b[0m\u001b[0;34m\u001b[0m\u001b[0m\n\u001b[0m\u001b[1;32m    332\u001b[0m \u001b[0;34m\u001b[0m\u001b[0m\n\u001b[1;32m    333\u001b[0m         \u001b[0;32mif\u001b[0m \u001b[0mkeys\u001b[0m \u001b[0;32mis\u001b[0m \u001b[0;32mNone\u001b[0m\u001b[0;34m:\u001b[0m\u001b[0;34m\u001b[0m\u001b[0;34m\u001b[0m\u001b[0m\n",
      "\u001b[0;31mValueError\u001b[0m: No objects to concatenate"
     ]
    }
   ],
   "source": [
    "import pandas as pd\n",
    "main = pd.concat(tournament_list, axis = 0)\n",
    "print(main)"
   ]
  }
 ],
 "metadata": {
  "kernelspec": {
   "display_name": "Python 3",
   "language": "python",
   "name": "python3"
  },
  "language_info": {
   "codemirror_mode": {
    "name": "ipython",
    "version": 3
   },
   "file_extension": ".py",
   "mimetype": "text/x-python",
   "name": "python",
   "nbconvert_exporter": "python",
   "pygments_lexer": "ipython3",
   "version": "3.8.3"
  }
 },
 "nbformat": 4,
 "nbformat_minor": 4
}
