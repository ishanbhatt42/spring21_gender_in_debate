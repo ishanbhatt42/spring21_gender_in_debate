{
 "cells": [
  {
   "cell_type": "code",
   "execution_count": 74,
   "metadata": {},
   "outputs": [],
   "source": [
    "from scraper import tournament_scrape"
   ]
  },
  {
   "cell_type": "markdown",
   "metadata": {},
   "source": [
    "# Tournaments Omitted\n",
    "\n",
    "Don't worry, will write up independent code for these later.\n",
    "\n",
    "#### Havard Westlake 2021 \n",
    "\n",
    "Reasoning: wins ommitted\n",
    "\n",
    "#### Mid America Cup 2021 \n",
    "\n",
    "Weird entry formatting.\n"
   ]
  },
  {
   "cell_type": "code",
   "execution_count": 76,
   "metadata": {},
   "outputs": [],
   "source": [
    "tournament_list = []\n",
    "\n",
    "# Tournament of Champions\n",
    "\n",
    "toc21 = tournament_scrape(\"TOC\", 2021, \n",
    "                         \"https://www.tabroom.com/index/tourn/results/event_results.mhtml?tourn_id=16714&result_id=183375\")\n",
    "tournament_list.append(toc21)\n",
    "\n",
    "# Harvard 2021\n",
    "\n",
    "harvard21 = tournament_scrape(\"Harvard\", 2021, \"https://www.tabroom.com/index/tourn/results/event_results.mhtml?tourn_id=16776&result_id=166102\")\n",
    "\n",
    "tournament_list.append(harvard21)\n",
    "\n",
    "# Berkeley 2021\n",
    "\n",
    "cal21 = tournament_scrape(\"Cal\", 2021, \"https://www.tabroom.com/index/tourn/results/event_results.mhtml?tourn_id=16917&result_id=166165\")\n",
    "\n",
    "tournament_list.append(cal21)\n",
    "\n",
    "# The Heart of Texas 2021\n",
    "\n",
    "hot21 = tournament_scrape(\"HoT\", 2021, \"https://www.tabroom.com/index/tourn/results/event_results.mhtml?tourn_id=16679&result_id=170439\")\n",
    "\n",
    "tournament_list.append(hot21)\n",
    "\n",
    "# Barkley Forum 2021\n",
    "\n",
    "bf21 = tournament_scrape(\"Barkley Forum\", 2021, \"https://www.tabroom.com/index/tourn/results/event_results.mhtml?tourn_id=16030&result_id=160505\")\n",
    "\n",
    "tournament_list.append(bf21)\n",
    "\n",
    "# Glenbrooks 2021\n",
    "\n",
    "gbx21 = tournament_scrape(\"Glenbrooks\", 2021, \"https://www.tabroom.com/index/tourn/results/event_results.mhtml?tourn_id=14991&result_id=146746\")\n",
    "\n",
    "tournament_list.append(gbx21)\n",
    "\n",
    "# Apple Valley 2021\n",
    "\n",
    "av21 = tournament_scrape(\"Apple Valley\", 2021, \"https://www.tabroom.com/index/tourn/results/event_results.mhtml?tourn_id=16856&result_id=141333\")\n",
    "\n",
    "tournament_list.append(av21)\n",
    "\n",
    "# Bronx 2021\n",
    "\n",
    "ny21 = tournament_scrape(\"Bronx\", 2021, \"https://www.tabroom.com/index/tourn/results/event_results.mhtml?tourn_id=15710&result_id=136556\")\n",
    "\n",
    "tournament_list.append(ny21)\n",
    "\n",
    "# Greenhill 2021\n",
    "\n",
    "gh21 = tournament_scrape(\"Greenhill\", 2021, \"https://www.tabroom.com/index/tourn/results/event_results.mhtml?tourn_id=16788&result_id=132928\")\n",
    "\n",
    "tournament_list.append(gh21)\n",
    "\n",
    "\n"
   ]
  },
  {
   "cell_type": "code",
   "execution_count": 77,
   "metadata": {},
   "outputs": [],
   "source": [
    "import pandas as pd\n",
    "main = pd.concat(tournament_list, axis = 0)"
   ]
  },
  {
   "cell_type": "code",
   "execution_count": 79,
   "metadata": {
    "scrolled": true
   },
   "outputs": [
    {
     "name": "stdout",
     "output_type": "stream",
     "text": [
      "    Place                 Code                 Name State WinPm  Score  \\\n",
      "1       1  Harvard-Westlake SM  Samantha McLoughlin    CA  6.00  118.1   \n",
      "2       2       Bellarmine  EG        Eric Gottlieb    CA  5.00  118.3   \n",
      "3       3  Legacy Christian BP          Breigh Plat    TX  5.00  118.2   \n",
      "4       4         Woodlands LW         Lulu Whitson    TX  5.00  118.0   \n",
      "5       5    Strake Jesuit  BE          Ben Erdmann    TX  5.00  117.8   \n",
      "..    ...                  ...                  ...   ...   ...    ...   \n",
      "97     97       James Logan AG        Anakha Ganesh    CA  1.00  110.7   \n",
      "98     98        Grapevine BDe  Bethany de la Torre    TX  1.00  110.0   \n",
      "99     99             Edina MK    Matt Kumar-Montei    MN  1.00  109.9   \n",
      "100   100       Marlborough AK      Anya Karumanchi    CA  0.00  112.9   \n",
      "101   101         Grapevine NM     Nicolas Martinez    TX  0.00  112.1   \n",
      "\n",
      "    Tournament  Season         Z  \n",
      "1          TOC    2021  1.956226  \n",
      "2          TOC    2021  2.155961  \n",
      "3          TOC    2021  2.056093  \n",
      "4          TOC    2021  1.856359  \n",
      "5          TOC    2021  1.656624  \n",
      "..         ...     ...       ...  \n",
      "97   Greenhill    2021 -2.403080  \n",
      "98   Greenhill    2021 -2.795454  \n",
      "99   Greenhill    2021 -2.851507  \n",
      "100  Greenhill    2021 -1.169906  \n",
      "101  Greenhill    2021 -1.618333  \n",
      "\n",
      "[1458 rows x 9 columns]\n"
     ]
    }
   ],
   "source": [
    "print(main)"
   ]
  },
  {
   "cell_type": "code",
   "execution_count": null,
   "metadata": {},
   "outputs": [],
   "source": []
  }
 ],
 "metadata": {
  "kernelspec": {
   "display_name": "Python 3",
   "language": "python",
   "name": "python3"
  },
  "language_info": {
   "codemirror_mode": {
    "name": "ipython",
    "version": 3
   },
   "file_extension": ".py",
   "mimetype": "text/x-python",
   "name": "python",
   "nbconvert_exporter": "python",
   "pygments_lexer": "ipython3",
   "version": "3.8.3"
  }
 },
 "nbformat": 4,
 "nbformat_minor": 4
}
